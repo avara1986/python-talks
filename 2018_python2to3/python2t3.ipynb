{
 "cells": [
  {
   "cell_type": "markdown",
   "metadata": {
    "slideshow": {
     "slide_type": "slide"
    }
   },
   "source": [
    "\n",
    "# <center>PYTHON 3 IS COMING</center>\n",
    "\n",
    "<center><img src=\"imgs/portada1.gif\">\n",
    "</center>\n",
    "<small>Marzo 2018</small>"
   ]
  },
  {
   "cell_type": "markdown",
   "metadata": {
    "slideshow": {
     "slide_type": "slide"
    }
   },
   "source": [
    "## ¿Por qué esta temática?"
   ]
  },
  {
   "cell_type": "markdown",
   "metadata": {
    "slideshow": {
     "slide_type": "slide"
    }
   },
   "source": [
    "<center><img src=\"imgs/python2016.png\" style=\"width: 60%;\">\n",
    "</center>\n",
    "\n",
    "fuente: https://semaphoreci.com/blog/2016/11/11/python-versions-used-in-commercial-projects-2016-edition.html"
   ]
  },
  {
   "cell_type": "markdown",
   "metadata": {
    "slideshow": {
     "slide_type": "slide"
    }
   },
   "source": [
    "<center><img src=\"imgs/python2017.png\" style=\"width: 60%;\">\n",
    "</center>\n",
    "\n",
    "fuente: https://semaphoreci.com/blog/2017/10/18/python-versions-used-in-commercial-projects-in-2017.html"
   ]
  },
  {
   "cell_type": "markdown",
   "metadata": {
    "slideshow": {
     "slide_type": "slide"
    }
   },
   "source": [
    "\n",
    "# <center>El código es oscuro y alberga horrores</center>\n",
    "\n",
    "<center><img src=\"imgs/portada2.gif\">\n",
    "</center>\n",
    "<small>Marzo 2019</small>"
   ]
  },
  {
   "cell_type": "markdown",
   "metadata": {
    "slideshow": {
     "slide_type": "slide"
    }
   },
   "source": [
    "\n",
    "# <center>Valar Morghulis</center>\n",
    "\n",
    "<center><img src=\"imgs/portada3.gif\">\n",
    "</center>\n",
    "<small>Marzo 2020</small>"
   ]
  },
  {
   "cell_type": "markdown",
   "metadata": {
    "slideshow": {
     "slide_type": "slide"
    }
   },
   "source": [
    "## Escribiendo  código compatible Python 2-3"
   ]
  },
  {
   "cell_type": "markdown",
   "metadata": {
    "slideshow": {
     "slide_type": "notes"
    }
   },
   "source": [
    "Librerías para usar código compatible"
   ]
  },
  {
   "cell_type": "code",
   "execution_count": 37,
   "metadata": {
    "slideshow": {
     "slide_type": "-"
    }
   },
   "outputs": [],
   "source": [
    "import future        # pip install future\n",
    "import builtins      # pip install future\n",
    "import past          # pip install future\n",
    "import six           # pip install six"
   ]
  },
  {
   "cell_type": "markdown",
   "metadata": {
    "slideshow": {
     "slide_type": "notes"
    }
   },
   "source": [
    "Ejemplos usando `six` para que sea compatible entre python2 y 3"
   ]
  },
  {
   "cell_type": "code",
   "execution_count": 38,
   "metadata": {
    "slideshow": {
     "slide_type": "slide"
    }
   },
   "outputs": [
    {
     "name": "stdout",
     "output_type": "stream",
     "text": [
      "a\n",
      "<class 'str'>\n"
     ]
    }
   ],
   "source": [
    "print(six.text_type(\"a\"))\n",
    "print(type(six.text_type(\"a\")))"
   ]
  },
  {
   "cell_type": "markdown",
   "metadata": {
    "slideshow": {
     "slide_type": "notes"
    }
   },
   "source": [
    "Se puede conseguir el mismo resultado usando `__future__`"
   ]
  },
  {
   "cell_type": "code",
   "execution_count": 39,
   "metadata": {
    "slideshow": {
     "slide_type": "-"
    }
   },
   "outputs": [
    {
     "name": "stdout",
     "output_type": "stream",
     "text": [
      "a\n",
      "<class 'str'>\n"
     ]
    }
   ],
   "source": [
    "from __future__ import (unicode_literals)\n",
    "print(\"a\")\n",
    "print(type(\"a\"))"
   ]
  },
  {
   "cell_type": "markdown",
   "metadata": {
    "slideshow": {
     "slide_type": "notes"
    }
   },
   "source": [
    "De forma contraria, usando `past` podemos usar la forma que se hacía en python 2"
   ]
  },
  {
   "cell_type": "code",
   "execution_count": 26,
   "metadata": {
    "slideshow": {
     "slide_type": "-"
    }
   },
   "outputs": [
    {
     "name": "stdout",
     "output_type": "stream",
     "text": [
      "å­å­\n",
      "<class 'past.types.oldstr.oldstr'>\n"
     ]
    }
   ],
   "source": [
    "from past.builtins import (str as oldstr)\n",
    "texto = oldstr(u'孔子'.encode('utf-8'))\n",
    "print(texto)\n",
    "print(type(texto))\n"
   ]
  },
  {
   "cell_type": "markdown",
   "metadata": {
    "slideshow": {
     "slide_type": "slide"
    }
   },
   "source": [
    "## Casos simples"
   ]
  },
  {
   "cell_type": "code",
   "execution_count": 27,
   "metadata": {
    "slideshow": {
     "slide_type": "-"
    }
   },
   "outputs": [
    {
     "name": "stdout",
     "output_type": "stream",
     "text": [
      "BÁSICO:\n",
      "Hello Guido\n",
      "CON NUEVOS PARÁMETROS:\n",
      "Hello | Guido!"
     ]
    }
   ],
   "source": [
    "# Python 2 and 3:\n",
    "from __future__ import print_function    # (at top of module)\n",
    "\n",
    "print('BÁSICO:')\n",
    "print('Hello Guido')\n",
    "\n",
    "print('CON NUEVOS PARÁMETROS:')\n",
    "print('Hello', 'Guido', sep=\" | \", end=\"!\")"
   ]
  },
  {
   "cell_type": "code",
   "execution_count": null,
   "metadata": {
    "slideshow": {
     "slide_type": "slide"
    }
   },
   "outputs": [],
   "source": [
    "# Python 2 only:\n",
    "raise ValueError, \"dodgy value\""
   ]
  },
  {
   "cell_type": "code",
   "execution_count": null,
   "metadata": {
    "slideshow": {
     "slide_type": "-"
    }
   },
   "outputs": [],
   "source": [
    "# Python 2 and 3:\n",
    "raise ValueError(\"dodgy value\")"
   ]
  },
  {
   "cell_type": "code",
   "execution_count": null,
   "metadata": {
    "slideshow": {
     "slide_type": "subslide"
    }
   },
   "outputs": [],
   "source": [
    "# Python 2 only:\n",
    "try:\n",
    "    ...\n",
    "except ValueError, e:\n",
    "    ..."
   ]
  },
  {
   "cell_type": "code",
   "execution_count": null,
   "metadata": {
    "slideshow": {
     "slide_type": "-"
    }
   },
   "outputs": [],
   "source": [
    "# Python 2 and 3:\n",
    "try:\n",
    "    ...\n",
    "except ValueError as e:\n",
    "    ..."
   ]
  },
  {
   "cell_type": "code",
   "execution_count": null,
   "metadata": {
    "slideshow": {
     "slide_type": "subslide"
    }
   },
   "outputs": [],
   "source": [
    "from abc import ABCMeta\n",
    "# Python 2 only:\n",
    "class MyABC:\n",
    "    __metaclass__ = ABCMeta\n",
    "    pass"
   ]
  },
  {
   "cell_type": "code",
   "execution_count": null,
   "metadata": {
    "slideshow": {
     "slide_type": "-"
    }
   },
   "outputs": [],
   "source": [
    "from abc import ABC, ABCMeta\n",
    "\n",
    "class MyABC(ABC):\n",
    "    pass\n",
    "\n",
    "class MyABC2(metaclass=ABCMeta):\n",
    "    pass"
   ]
  },
  {
   "cell_type": "code",
   "execution_count": null,
   "metadata": {
    "slideshow": {
     "slide_type": "slide"
    }
   },
   "outputs": [],
   "source": [
    "# Python 2 only:\n",
    "name = raw_input('What is your name? ')\n",
    "assert isinstance(name, str)    # native str\n",
    "# Python 2 and 3:\n",
    "from builtins import input\n",
    "\n",
    "name = input('What is your name? ')\n",
    "assert isinstance(name, str)    # native str on Py2 and Py3\n",
    "\n",
    "# Python 2 only:\n",
    "input(\"Type something safe please: \")\n",
    "# Python 2 and 3\n",
    "from builtins import input\n",
    "eval(input(\"Type something safe please: \"))"
   ]
  },
  {
   "cell_type": "code",
   "execution_count": null,
   "metadata": {
    "slideshow": {
     "slide_type": "slide"
    }
   },
   "outputs": [],
   "source": [
    "# Python 2 only:\n",
    "import urllib2\n",
    "url = \"http://www.google.com\"\n",
    "html = urllib2.urlopen(url)"
   ]
  },
  {
   "cell_type": "code",
   "execution_count": null,
   "metadata": {
    "slideshow": {
     "slide_type": "-"
    }
   },
   "outputs": [],
   "source": [
    "# Python 3:\n",
    "from urllib.request import urlopen\n",
    "url = \"http://www.google.com\"\n",
    "html = urlopen(url)"
   ]
  },
  {
   "cell_type": "markdown",
   "metadata": {
    "slideshow": {
     "slide_type": "slide"
    }
   },
   "source": [
    "### relative Imports \n",
    "Supongamos que tenemos un proyecto tal que:\n",
    "\n",
    "``\n",
    "mypython2package/\n",
    "    __init__.py\n",
    "    main.py\n",
    "    main2.py\n",
    "``\n"
   ]
  },
  {
   "cell_type": "code",
   "execution_count": null,
   "metadata": {
    "slideshow": {
     "slide_type": "subslide"
    }
   },
   "outputs": [],
   "source": [
    "# Python 2\n",
    "from . import main2\n"
   ]
  },
  {
   "cell_type": "code",
   "execution_count": null,
   "metadata": {
    "slideshow": {
     "slide_type": "-"
    }
   },
   "outputs": [],
   "source": [
    "# Python 2 and 3. GOOD WAY!\n",
    "from __future__ import absolute_import\n",
    "# Python 2 and 3:\n",
    "from mypython2package import main2"
   ]
  },
  {
   "cell_type": "markdown",
   "metadata": {
    "slideshow": {
     "slide_type": "slide"
    }
   },
   "source": [
    "### Division"
   ]
  },
  {
   "cell_type": "code",
   "execution_count": 9,
   "metadata": {
    "slideshow": {
     "slide_type": "-"
    }
   },
   "outputs": [],
   "source": [
    "# Python 2 only:\n",
    "assert 2 / 3 == 0"
   ]
  },
  {
   "cell_type": "code",
   "execution_count": 5,
   "metadata": {
    "slideshow": {
     "slide_type": "-"
    }
   },
   "outputs": [],
   "source": [
    "# Python 2 and 3:\n",
    "assert 2 // 3 == 0"
   ]
  },
  {
   "cell_type": "code",
   "execution_count": null,
   "metadata": {
    "slideshow": {
     "slide_type": "-"
    }
   },
   "outputs": [],
   "source": [
    "# Python 3 only:\n",
    "assert 3 / 2 == 1.5"
   ]
  },
  {
   "cell_type": "code",
   "execution_count": null,
   "metadata": {
    "slideshow": {
     "slide_type": "-"
    }
   },
   "outputs": [],
   "source": [
    "# Python 2 and 3:\n",
    "from __future__ import division\n",
    "\n",
    "assert 3 / 2 == 1.5"
   ]
  },
  {
   "cell_type": "markdown",
   "metadata": {
    "slideshow": {
     "slide_type": "slide"
    }
   },
   "source": [
    "### Unicode & Byte\n",
    "\n",
    "En Python 2, `str` es una secuencia de bytes. `unicode` es una representación de un texto\n",
    "\n",
    "En Python 3, `unicode` == `str` y `str` de Python 2 ahora es `bytes`\n"
   ]
  },
  {
   "cell_type": "markdown",
   "metadata": {},
   "source": [
    "Error típico de Python 2:\n",
    "\n",
    "`SyntaxError: Non-ASCII character '\\xc3' in file unicode_error.py on line 1, but no encoding declared; see http://python.org/dev/peps/pep-0263/ for details`"
   ]
  },
  {
   "cell_type": "code",
   "execution_count": null,
   "metadata": {
    "slideshow": {
     "slide_type": "subslide"
    }
   },
   "outputs": [],
   "source": [
    "# Python 2 only\n",
    "s1 = 'きたないのよりきれいな方がいい\\n'\n",
    "\n",
    "s2 = u'きたないのよりきれいな方がいい\\n'\n",
    "\n",
    "s3 = b'きたないのよりきれいな方がいい\\n'\n",
    "\n",
    "assert s1 is not s2\n",
    "assert s1 is  s3"
   ]
  },
  {
   "cell_type": "code",
   "execution_count": null,
   "metadata": {
    "slideshow": {
     "slide_type": "-"
    }
   },
   "outputs": [],
   "source": [
    "# Python 2 and 3\n",
    "from __future__ import unicode_literals    # at top of module\n",
    "\n",
    "s4 = 'きたないのよりきれいな方がいい\\n'\n",
    "s5 = u'きたないのよりきれいな方がいい\\n'\n",
    "\n",
    "assert s4 is s5"
   ]
  },
  {
   "cell_type": "code",
   "execution_count": null,
   "metadata": {
    "slideshow": {
     "slide_type": "-"
    }
   },
   "outputs": [],
   "source": [
    "# Python 2 only\n",
    "s6 = 'A byte-string'\n",
    "\n",
    "# Python 2 and 3\n",
    "s6 = b'A byte-string'\n",
    "\n",
    "assert s6 is not s7"
   ]
  },
  {
   "cell_type": "code",
   "execution_count": 28,
   "metadata": {
    "slideshow": {
     "slide_type": "subslide"
    }
   },
   "outputs": [
    {
     "name": "stdout",
     "output_type": "stream",
     "text": [
      "blog/blog_post_detail_slug.html\n"
     ]
    }
   ],
   "source": [
    "# Python 2 and 3: alternative 1\n",
    "from builtins import str\n",
    "templates = u\"blog/blog_post_detail_%s.html\" % str(\"slug\")\n",
    "print(templates)"
   ]
  },
  {
   "cell_type": "code",
   "execution_count": 29,
   "metadata": {
    "slideshow": {
     "slide_type": "-"
    }
   },
   "outputs": [
    {
     "ename": "AttributeError",
     "evalue": "'bytes' object has no attribute 'format'",
     "output_type": "error",
     "traceback": [
      "\u001b[0;31m---------------------------------------------------------------------------\u001b[0m",
      "\u001b[0;31mAttributeError\u001b[0m                            Traceback (most recent call last)",
      "\u001b[0;32m<ipython-input-29-508c421c5757>\u001b[0m in \u001b[0;36m<module>\u001b[0;34m()\u001b[0m\n\u001b[0;32m----> 1\u001b[0;31m \u001b[0mtemplates\u001b[0m \u001b[0;34m=\u001b[0m \u001b[0;34mb\"blog/blog_post_detail_{}.html\"\u001b[0m\u001b[0;34m.\u001b[0m\u001b[0mformat\u001b[0m\u001b[0;34m(\u001b[0m\u001b[0;34mb\"slug\"\u001b[0m\u001b[0;34m)\u001b[0m\u001b[0;34m\u001b[0m\u001b[0m\n\u001b[0m",
      "\u001b[0;31mAttributeError\u001b[0m: 'bytes' object has no attribute 'format'"
     ]
    }
   ],
   "source": [
    "templates = b\"blog/blog_post_detail_{}.html\".format(b\"slug\")"
   ]
  },
  {
   "cell_type": "code",
   "execution_count": null,
   "metadata": {
    "slideshow": {
     "slide_type": "-"
    }
   },
   "outputs": [],
   "source": [
    "print(b\"blog/blog_post_detail_%s.html\" % b\"slug\")"
   ]
  },
  {
   "cell_type": "code",
   "execution_count": 31,
   "metadata": {
    "slideshow": {
     "slide_type": "slide"
    }
   },
   "outputs": [],
   "source": [
    "import base64\n",
    "# MAL!!!!\n",
    "authenticationHeader = {\n",
    "    \"Authorization\": \"Basic {}\".format(base64.b64encode(bytes(\"user:pass\", \"utf-8\")))\n",
    "}\n",
    "# BIEN!!!!\n",
    "authenticationHeader = {\n",
    "    \"Authorization\": \"Basic {}\".format(str(base64.b64encode(bytes(\"user:pass\", \"utf-8\")), \"utf-8\"))\n",
    "}\n",
    "\n",
    "# r = requests.get(url, headers=authenticationHeader)\n"
   ]
  },
  {
   "cell_type": "code",
   "execution_count": 32,
   "metadata": {
    "slideshow": {
     "slide_type": "subslide"
    }
   },
   "outputs": [
    {
     "name": "stdout",
     "output_type": "stream",
     "text": [
      "CADENA CODIFICADA\n",
      "b'dXNlcjpwYXNz'\n",
      "\n",
      "CADENA FORMATEADA MAL 1\n",
      "Basic b'dXNlcjpwYXNz'\n",
      "\n",
      "CADENA FORMATEADA MAL 2\n",
      "Basic b'dXNlcjpwYXNz'\n",
      "\n",
      "FORMAS CORRECTAS 1\n",
      "Basic dXNlcjpwYXNz\n",
      "\n",
      "Basic dXNlcjpwYXNz\n",
      "\n"
     ]
    }
   ],
   "source": [
    "print(\"CADENA CODIFICADA\")\n",
    "print(base64.b64encode(bytes(\"user:pass\", \"utf-8\")), end=\"\\n\\n\")\n",
    "print(\"CADENA FORMATEADA MAL 1\")\n",
    "print(\"Basic {}\".format(base64.b64encode(bytes(\"user:pass\", \"utf-8\"))), end=\"\\n\\n\")\n",
    "print(\"CADENA FORMATEADA MAL 2\")\n",
    "print(\"Basic %s\" % (base64.b64encode(bytes(\"user:pass\", \"utf-8\"))), end=\"\\n\\n\")\n",
    "\n",
    "print(\"FORMAS CORRECTAS 1\")\n",
    "print(\"Basic {}\".format(str(base64.b64encode(b\"user:pass\"), \"utf-8\")), end=\"\\n\\n\")\n",
    "print(\"Basic {}\".format(str(base64.b64encode(bytes(\"user:pass\", \"utf-8\")), \"utf-8\")), end=\"\\n\\n\")"
   ]
  },
  {
   "cell_type": "markdown",
   "metadata": {
    "slideshow": {
     "slide_type": "skip"
    }
   },
   "source": [
    "### StringIO"
   ]
  },
  {
   "cell_type": "code",
   "execution_count": null,
   "metadata": {
    "slideshow": {
     "slide_type": "skip"
    }
   },
   "outputs": [],
   "source": [
    "# Python 2 only:\n",
    "from StringIO import StringIO\n",
    "# or:\n",
    "from cStringIO import StringIO\n",
    "\n",
    "# Python 2 only\n",
    "f = open('myfile.txt')\n",
    "data = f.read()              # as a byte string\n",
    "text = data.decode('utf-8')"
   ]
  },
  {
   "cell_type": "code",
   "execution_count": 33,
   "metadata": {
    "slideshow": {
     "slide_type": "skip"
    }
   },
   "outputs": [
    {
     "name": "stdout",
     "output_type": "stream",
     "text": [
      "Bytes:\n",
      "b'Hello world Python3 \\nHello world Python2\\nClaro que si g\\xc3\\xbcapi!\\n'\n",
      "Unicode/Str 1:\n",
      "Hello world Python3 \n",
      "Hello world Python2\n",
      "Claro que si güapi!\n",
      "\n",
      "Unicode/Str 2:\n",
      "Hello world Python3 \n",
      "Hello world Python2\n",
      "Claro que si güapi!\n",
      "\n"
     ]
    }
   ],
   "source": [
    "# Python 2 and 3:\n",
    "from io import BytesIO     # for handling byte strings\n",
    "from io import StringIO    # for handling unicode strings\n",
    "\n",
    "# Python 2 and 3: alternative 1\n",
    "from io import open\n",
    "f = open('myfile.txt', 'rb')\n",
    "data = f.read() # as bytes\n",
    "print(\"Bytes:\")\n",
    "print(data)\n",
    "text = data.decode('utf-8')  # unicode, not bytes\n",
    "print(\"Unicode/Str 1:\")\n",
    "print(text)\n",
    "\n",
    "# Python 2 and 3: alternative 2\n",
    "f = open('myfile.txt', encoding='utf-8')\n",
    "text = f.read()    # unicode, not bytes\n",
    "print(\"Unicode/Str 2:\")\n",
    "print(text)"
   ]
  },
  {
   "cell_type": "markdown",
   "metadata": {
    "slideshow": {
     "slide_type": "skip"
    }
   },
   "source": [
    "### Custom __str__ methods"
   ]
  },
  {
   "cell_type": "code",
   "execution_count": null,
   "metadata": {
    "slideshow": {
     "slide_type": "skip"
    }
   },
   "outputs": [],
   "source": [
    "# Python 2 only:\n",
    "class MyClass(object):\n",
    "    def __unicode__(self):\n",
    "        return 'Unicode string: \\u5b54\\u5b50'\n",
    "    def __str__(self):\n",
    "        return unicode(self).encode('utf-8')\n",
    "\n",
    "a = MyClass()\n",
    "print(a)    # prints encoded string"
   ]
  },
  {
   "cell_type": "code",
   "execution_count": 37,
   "metadata": {
    "slideshow": {
     "slide_type": "skip"
    }
   },
   "outputs": [
    {
     "name": "stdout",
     "output_type": "stream",
     "text": [
      "Unicode string: 孔子\n",
      "Instance of my class\n"
     ]
    }
   ],
   "source": [
    "# Python 2 and 3:\n",
    "from future.utils import python_2_unicode_compatible\n",
    "\n",
    "@python_2_unicode_compatible\n",
    "class MyClass(object):\n",
    "    def __str__(self):\n",
    "        return u'Unicode string: \\u5b54\\u5b50'\n",
    "\n",
    "a = MyClass()\n",
    "print(a)    # prints string encoded as utf-8 on Py2\n",
    "\n",
    "from __future__ import unicode_literals\n",
    "from django.utils.encoding import python_2_unicode_compatible\n",
    "\n",
    "@python_2_unicode_compatible\n",
    "class MyClass(object):\n",
    "    def __str__(self):\n",
    "        return \"Instance of my class\"\n",
    "    \n",
    "a = MyClass()\n",
    "print(a)    # prints string encoded as utf-8 on Py"
   ]
  },
  {
   "cell_type": "markdown",
   "metadata": {
    "slideshow": {
     "slide_type": "slide"
    }
   },
   "source": [
    "## Dictionaries"
   ]
  },
  {
   "cell_type": "markdown",
   "metadata": {
    "slideshow": {
     "slide_type": "skip"
    }
   },
   "source": [
    "#### Iterar sobre las claves"
   ]
  },
  {
   "cell_type": "code",
   "execution_count": null,
   "metadata": {
    "slideshow": {
     "slide_type": "skip"
    }
   },
   "outputs": [],
   "source": [
    "# Python 2 only:\n",
    "heights = {'Fred': 175, 'Anne': 166, 'Joe': 192}\n",
    "for key in heights.iterkeys():\n",
    "    print(key)"
   ]
  },
  {
   "cell_type": "code",
   "execution_count": null,
   "metadata": {
    "slideshow": {
     "slide_type": "skip"
    }
   },
   "outputs": [],
   "source": [
    "# Python 2 and 3:\n",
    "heights = {'Fred': 175, 'Anne': 166, 'Joe': 192}\n",
    "for key in heights:\n",
    "    print(key)"
   ]
  },
  {
   "cell_type": "markdown",
   "metadata": {
    "slideshow": {
     "slide_type": "skip"
    }
   },
   "source": [
    "#### Iterar sobre los valores"
   ]
  },
  {
   "cell_type": "code",
   "execution_count": null,
   "metadata": {
    "slideshow": {
     "slide_type": "skip"
    }
   },
   "outputs": [],
   "source": [
    "heights = {'Fred': 175, 'Anne': 166, 'Joe': 192}\n",
    "# Python 2 only:\n",
    "for value in heights.itervalues():\n",
    "    print(value)"
   ]
  },
  {
   "cell_type": "code",
   "execution_count": null,
   "metadata": {
    "slideshow": {
     "slide_type": "skip"
    }
   },
   "outputs": [],
   "source": [
    "heights = {'Fred': 175, 'Anne': 166, 'Joe': 192}\n",
    "# Idiomatic Python 3\n",
    "for value in heights.values():    # extra memory overhead on Py2\n",
    "    print(value)"
   ]
  },
  {
   "cell_type": "code",
   "execution_count": null,
   "metadata": {
    "slideshow": {
     "slide_type": "skip"
    }
   },
   "outputs": [],
   "source": [
    "# Python 2 and 3: option 2\n",
    "from six import itervalues\n",
    "\n",
    "for value in itervalues(heights):\n",
    "    print(value)"
   ]
  },
  {
   "cell_type": "markdown",
   "metadata": {
    "slideshow": {
     "slide_type": "skip"
    }
   },
   "source": [
    "#### Iterar sobre elementos de un diccionarios"
   ]
  },
  {
   "cell_type": "code",
   "execution_count": null,
   "metadata": {
    "slideshow": {
     "slide_type": "-"
    }
   },
   "outputs": [],
   "source": [
    "# Python 2 only:\n",
    "for (key, value) in heights.iteritems():\n",
    "    print(value)"
   ]
  },
  {
   "cell_type": "code",
   "execution_count": null,
   "metadata": {
    "slideshow": {
     "slide_type": "-"
    }
   },
   "outputs": [],
   "source": [
    "# Python 2 and 3: option 1\n",
    "for (key, value) in heights.items():    # inefficient on Py2\n",
    "    print(key, value, sep=\": \")"
   ]
  },
  {
   "cell_type": "code",
   "execution_count": null,
   "metadata": {
    "slideshow": {
     "slide_type": "subslide"
    }
   },
   "outputs": [],
   "source": [
    "# Python 2 and 3: option 2\n",
    "from future.utils import viewitems\n",
    "\n",
    "for (key, value) in viewitems(heights):\n",
    "    print(key, value, sep=\": \")\n",
    "\n",
    "# Python 2 and 3: option 3\n",
    "from future.utils import iteritems # or from six import iteritems\n",
    "\n",
    "for (key, value) in iteritems(heights):\n",
    "    print(key, value, sep=\": \")"
   ]
  },
  {
   "cell_type": "markdown",
   "metadata": {
    "slideshow": {
     "slide_type": "slide"
    }
   },
   "source": [
    "<center><img src=\"imgs/Parental-advisory-explicit-lyrics.jpg\">\n",
    "</center>"
   ]
  },
  {
   "cell_type": "code",
   "execution_count": null,
   "metadata": {
    "slideshow": {
     "slide_type": "subslide"
    }
   },
   "outputs": [],
   "source": [
    "# Python 2\n",
    "dict_1 = {'a': \"Hartu\", 'b': \"arbasoen\"}\n",
    "dict_2 = {'c': \"ohitura\", 'd': \"zaharrak\"}\n",
    "\n",
    "def merge_two_dicts(x, y):\n",
    "    z = x\n",
    "    z.update(y)    \n",
    "    return z\n",
    "\n",
    "print(merge_two_dicts(dict_1, dict_2))"
   ]
  },
  {
   "cell_type": "code",
   "execution_count": 10,
   "metadata": {
    "slideshow": {
     "slide_type": "subslide"
    }
   },
   "outputs": [
    {
     "name": "stdout",
     "output_type": "stream",
     "text": [
      "{'a': 'Hartu', 'b': 'arbasoen', 'c': 'ohitura', 'd': 'zaharrak'}\n",
      "\n",
      "😍 😍 😍 😍 😍 😍 😍 😍 😍 😍 😍 😍 😍 😍 😍 😍 😍 😍 😍 😍 😍 😍 😍 😍 😍 😍 😍 😍 😍 😍 😍 😍 😍 😍 😍 😍 😍 😍 😍 😍 😍 😍 😍 😍 😍 😍 😍 😍 😍 😍 😍 😍 😍 😍 😍 😍 😍 😍 😍 😍 😍 😍 😍 😍 😍 😍 😍 😍 😍 😍 😍 😍 😍 😍 😍 😍 😍 😍 😍 😍 😍 😍 😍 😍 😍 😍 😍 😍 😍 😍 😍 😍 😍 😍 😍 😍 😍 😍 😍 😍 😍 😍 😍 😍 😍 😍 😍 😍 😍 😍 😍 😍 😍 😍 😍 😍 😍 😍 😍 😍 😍 😍 😍 😍 😍 😍 😍 😍 😍 😍 😍 😍 😍 😍 😍 😍 😍 😍 😍 😍 😍 😍 😍 😍 😍 😍 😍 😍 😍 😍 😍 😍 😍 😍 😍 😍 😍 😍 😍 😍 😍 😍 😍 😍 😍 😍 😍 😍 😍 😍 😍 😍 😍 😍 😍 😍 😍 😍 😍 😍 😍 😍 😍 😍 😍 😍 😍 😍 😍 😍 😍 😍 😍 😍 😍 😍 😍 😍 😍 😍 😍 😍 😍 😍 😍 😍 😍 😍 😍 😍 😍 😍 😍 😍 😍 😍 😍 😍 😍 😍 😍 😍 😍 😍 😍 😍 😍 😍 😍 😍 😍 😍 😍 😍 😍 😍 😍 😍 😍 😍 😍 😍 😍 😍 😍 😍 😍 😍 😍 😍 😍 😍 😍 😍 😍 😍 😍 😍 😍 😍 😍 😍 😍 😍 😍 😍 😍 😍 😍 😍 😍 😍 😍 😍 😍 😍 😍 😍 😍 😍 😍 😍 😍 😍 😍 😍 😍 😍 😍 😍 😍 😍 😍 😍 😍 😍 😍 😍 😍 😍 😍 😍 😍 😍 😍 😍 😍 😍 😍 😍 😍 😍 😍 😍 😍 😍 😍 😍 😍 😍 😍 😍 😍 😍 😍 😍 😍 😍 😍 😍 😍 😍 😍 😍 😍 😍 😍 😍 😍 😍 😍 😍 😍 😍 😍 😍 😍 😍 😍 😍 😍 😍 😍 😍 😍 😍 😍 😍 😍 😍 😍 😍 😍 😍 😍 😍 😍 😍 😍 😍 😍 😍 😍 😍 😍 😍 😍 😍 😍 😍 😍 😍 😍 😍 😍 😍 😍 😍 😍 😍 😍 😍 😍 😍 😍 😍 😍 😍 😍 😍 😍 😍 😍 😍 😍 😍 😍 😍 😍 😍 😍 😍 😍 😍 😍 😍 😍 😍 😍 😍 😍 😍 😍 😍 😍 😍 😍 😍 😍 😍 😍 😍 😍 😍 😍 😍 😍 😍 😍 😍 😍 😍 😍 😍 😍 😍 😍 😍 😍 😍 😍 😍 😍 😍 😍 😍 😍 😍 😍 😍 😍 😍 😍 😍 😍 😍 😍 😍 😍 😍 😍 😍 😍 😍 😍 😍 😍 😍 😍 😍 😍 😍 😍 😍 😍 😍 😍 😍 😍 😍 😍 😍 😍 😍 😍 😍 😍 😍 😍 😍\n"
     ]
    }
   ],
   "source": [
    "# Python 3\n",
    "dict_1 = {'a': \"Hartu\", 'b': \"arbasoen\"}\n",
    "dict_2 = {'c': \"ohitura\", 'd': \"zaharrak\"}\n",
    "\n",
    "print({**dict_1, **dict_2}, end=\"\\n\\n\") \n",
    "\n",
    "print(*[\"\\U0001F60D\" for i in range(500)], sep=\" \")"
   ]
  },
  {
   "cell_type": "markdown",
   "metadata": {
    "slideshow": {
     "slide_type": "skip"
    }
   },
   "source": [
    "### Custom iterators"
   ]
  },
  {
   "cell_type": "code",
   "execution_count": null,
   "metadata": {
    "slideshow": {
     "slide_type": "skip"
    }
   },
   "outputs": [],
   "source": [
    "# Python 2 only\n",
    "class Upper(object):\n",
    "    def __init__(self, iterable):\n",
    "        self._iter = iter(iterable)\n",
    "    def next(self):          # Py2-style\n",
    "        return self._iter.next().upper()\n",
    "    def __iter__(self):\n",
    "        return self\n",
    "\n",
    "itr = Upper('hello')\n",
    "assert itr.next() == 'H'     # Py2-style\n",
    "assert list(itr) == list('ELLO')"
   ]
  },
  {
   "cell_type": "code",
   "execution_count": null,
   "metadata": {
    "slideshow": {
     "slide_type": "skip"
    }
   },
   "outputs": [],
   "source": [
    "# Python 2 and 3: option 1\n",
    "from builtins import object\n",
    "\n",
    "class Upper(object):\n",
    "    def __init__(self, iterable):\n",
    "        self._iter = iter(iterable)\n",
    "    def __next__(self):      # Py3-style iterator interface\n",
    "        return next(self._iter).upper()  # builtin next() function calls\n",
    "    def __iter__(self):\n",
    "        return self\n",
    "\n",
    "itr = Upper('hello')\n",
    "assert next(itr) == 'H'      # compatible style\n",
    "assert list(itr) == list('ELLO')"
   ]
  },
  {
   "cell_type": "markdown",
   "metadata": {
    "slideshow": {
     "slide_type": "slide"
    }
   },
   "source": [
    "### Funciones que pasan de lista a iteradores"
   ]
  },
  {
   "cell_type": "code",
   "execution_count": null,
   "metadata": {
    "slideshow": {
     "slide_type": "-"
    }
   },
   "outputs": [],
   "source": [
    "# Python 2 range:\n",
    "type(range(5)) # -> <type 'list'>\n",
    "print(range(5)) # -> [0, 1, 2, 3, 4]\n",
    "# Python 3 range:\n",
    "type(range(5)) # -> <class 'range'>\n",
    "print(range(5)) # -> range(0, 5)"
   ]
  },
  {
   "cell_type": "code",
   "execution_count": null,
   "metadata": {
    "slideshow": {
     "slide_type": "-"
    }
   },
   "outputs": [],
   "source": [
    "f = lambda x: x*2\n",
    "lista = [1,2,3]\n",
    "\n",
    "# Python 2 range:\n",
    "type(map(f,lista)) # -> <type 'list'>\n",
    "print(map(f,lista)) # -> [2, 4, 6]\n",
    "# Python 3 range:\n",
    "type(map(f,lista)) # -> map\n",
    "print(map(f,lista)) # -> <map object at 0x7fe89a56d518>"
   ]
  },
  {
   "cell_type": "markdown",
   "metadata": {
    "slideshow": {
     "slide_type": "-"
    }
   },
   "source": [
    "Lo mismo para zip, izip, filter, ifilter...."
   ]
  },
  {
   "cell_type": "markdown",
   "metadata": {
    "slideshow": {
     "slide_type": "slide"
    }
   },
   "source": [
    "### ADIOS reduce! :______("
   ]
  },
  {
   "cell_type": "code",
   "execution_count": null,
   "metadata": {
    "slideshow": {
     "slide_type": "-"
    }
   },
   "outputs": [],
   "source": [
    "from past.builtins import reduce\n",
    "\n",
    "\n",
    "assert reduce(lambda x, y: x+y, [1, 2, 3, 4, 5]) == 1+2+3+4+5\n",
    "\n",
    "assert reduce(lambda x, y: x+y, [(1, 2), (3, 4), (5, 6)]) == (1, 2, 3, 4, 5, 6)\n"
   ]
  },
  {
   "cell_type": "markdown",
   "metadata": {
    "slideshow": {
     "slide_type": "slide"
    }
   },
   "source": [
    "## I'm lazy, some program to do this migration, please? :)"
   ]
  },
  {
   "cell_type": "markdown",
   "metadata": {
    "slideshow": {
     "slide_type": "-"
    }
   },
   "source": [
    "### Futurize\n",
    "Show all files with python3 errors\n",
    "\n",
    "```\n",
    "apt-get install python3-future\n",
    "futurize --stage1 mypython2package/*.py\n",
    "futurize --stage2 mypython2package/*.py\n",
    "```"
   ]
  },
  {
   "cell_type": "markdown",
   "metadata": {
    "slideshow": {
     "slide_type": "subslide"
    }
   },
   "source": [
    "### Futurize\n",
    "Transform files with python3 errors\n",
    "\n",
    "```\n",
    "2to3 -w -f all  mypython2package/main.py\n",
    "```"
   ]
  },
  {
   "cell_type": "markdown",
   "metadata": {
    "slideshow": {
     "slide_type": "slide"
    }
   },
   "source": [
    "## Python 3.x News!"
   ]
  },
  {
   "cell_type": "markdown",
   "metadata": {
    "slideshow": {
     "slide_type": "slide"
    }
   },
   "source": [
    "### Yield from (Python 3.3+)\n",
    "\n",
    "PEP 380 adds the yield from expression, allowing a generator to delegate part of its operations to another generator. This allows a section of code containing yield to be factored out and placed in another generator. Additionally, the subgenerator is allowed to return with a value, and the value is made available to the delegating generator."
   ]
  },
  {
   "cell_type": "code",
   "execution_count": 41,
   "metadata": {
    "slideshow": {
     "slide_type": "-"
    }
   },
   "outputs": [
    {
     "data": {
      "text/plain": [
       "[5, 4, 3, 2, 1, 0, 1, 2, 3, 4]"
      ]
     },
     "execution_count": 41,
     "metadata": {},
     "output_type": "execute_result"
    }
   ],
   "source": [
    "def g(x):\n",
    "    yield from range(x, 0, -1)\n",
    "    yield from range(x)\n",
    "\n",
    "list(g(5))"
   ]
  },
  {
   "cell_type": "markdown",
   "metadata": {
    "slideshow": {
     "slide_type": "slide"
    }
   },
   "source": [
    "### Function annotation syntax (Python 3.5+)\n",
    "\n",
    "More info in [python.org](https://www.python.org/dev/peps/pep-3107/)"
   ]
  },
  {
   "cell_type": "code",
   "execution_count": 35,
   "metadata": {
    "slideshow": {
     "slide_type": "-"
    }
   },
   "outputs": [
    {
     "ename": "TypeError",
     "evalue": "must be str, not int",
     "output_type": "error",
     "traceback": [
      "\u001b[0;31m---------------------------------------------------------------------------\u001b[0m",
      "\u001b[0;31mTypeError\u001b[0m                                 Traceback (most recent call last)",
      "\u001b[0;32m<ipython-input-35-1211d3f71547>\u001b[0m in \u001b[0;36m<module>\u001b[0;34m()\u001b[0m\n\u001b[1;32m      2\u001b[0m     \u001b[0;32mreturn\u001b[0m \u001b[0;34m'Hello '\u001b[0m \u001b[0;34m+\u001b[0m \u001b[0mname\u001b[0m\u001b[0;34m\u001b[0m\u001b[0m\n\u001b[1;32m      3\u001b[0m \u001b[0;34m\u001b[0m\u001b[0m\n\u001b[0;32m----> 4\u001b[0;31m \u001b[0msay_hello\u001b[0m\u001b[0;34m(\u001b[0m\u001b[0;36m1\u001b[0m\u001b[0;34m)\u001b[0m\u001b[0;34m\u001b[0m\u001b[0m\n\u001b[0m",
      "\u001b[0;32m<ipython-input-35-1211d3f71547>\u001b[0m in \u001b[0;36msay_hello\u001b[0;34m(name)\u001b[0m\n\u001b[1;32m      1\u001b[0m \u001b[0;32mdef\u001b[0m \u001b[0msay_hello\u001b[0m\u001b[0;34m(\u001b[0m\u001b[0mname\u001b[0m\u001b[0;34m:\u001b[0m \u001b[0mstr\u001b[0m\u001b[0;34m)\u001b[0m \u001b[0;34m->\u001b[0m \u001b[0mstr\u001b[0m\u001b[0;34m:\u001b[0m\u001b[0;34m\u001b[0m\u001b[0m\n\u001b[0;32m----> 2\u001b[0;31m     \u001b[0;32mreturn\u001b[0m \u001b[0;34m'Hello '\u001b[0m \u001b[0;34m+\u001b[0m \u001b[0mname\u001b[0m\u001b[0;34m\u001b[0m\u001b[0m\n\u001b[0m\u001b[1;32m      3\u001b[0m \u001b[0;34m\u001b[0m\u001b[0m\n\u001b[1;32m      4\u001b[0m \u001b[0msay_hello\u001b[0m\u001b[0;34m(\u001b[0m\u001b[0;36m1\u001b[0m\u001b[0;34m)\u001b[0m\u001b[0;34m\u001b[0m\u001b[0m\n",
      "\u001b[0;31mTypeError\u001b[0m: must be str, not int"
     ]
    }
   ],
   "source": [
    "def say_hello(name: str) -> str:\n",
    "    return 'Hello ' + name\n",
    "\n",
    "say_hello(1)"
   ]
  },
  {
   "cell_type": "code",
   "execution_count": 36,
   "metadata": {
    "slideshow": {
     "slide_type": "subslide"
    }
   },
   "outputs": [
    {
     "data": {
      "text/plain": [
       "'Hello Python 3'"
      ]
     },
     "execution_count": 36,
     "metadata": {},
     "output_type": "execute_result"
    }
   ],
   "source": [
    "say_hello(\"Python 3\")"
   ]
  },
  {
   "cell_type": "markdown",
   "metadata": {
    "slideshow": {
     "slide_type": "slide"
    }
   },
   "source": [
    "### asyncio (Python 3.4+)\n",
    "\n",
    "**Future:** is an object that is supposed to have a result in the future\n",
    "\n",
    "**Task:** is a subclass of Future that wraps a coroutine. A task is responsible for executing a coroutine object in an event loop\n",
    "\n",
    "**Coroutines:** a generator that return tasks"
   ]
  },
  {
   "cell_type": "code",
   "execution_count": null,
   "metadata": {
    "slideshow": {
     "slide_type": "-"
    }
   },
   "outputs": [],
   "source": [
    "# Python 3.4 coroutine example\n",
    "import asyncio\n",
    " \n",
    "@asyncio.coroutine\n",
    "def my_coro():\n",
    "    yield from func()\n",
    "    \n",
    "import asyncio\n",
    " \n",
    "# Python 3.5 coroutine example\n",
    "async def my_coro():\n",
    "    await func()"
   ]
  },
  {
   "cell_type": "code",
   "execution_count": 2,
   "metadata": {
    "slideshow": {
     "slide_type": "slide"
    }
   },
   "outputs": [],
   "source": [
    "#asyncio_0_basic_01.py\n",
    "import asyncio\n",
    "import random\n",
    "\"\"\"\n",
    "@asyncio.coroutine\n",
    "def compute(x, y):\n",
    "    print(\"Compute %s + %s ...\" % (x, y))\n",
    "    yield from asyncio.sleep(random.randint(1,20))\n",
    "    return x + y\n",
    "\"\"\"\n",
    "async def compute(x, y):\n",
    "    print(\"Compute %s + %s ...\" % (x, y))\n",
    "    await asyncio.sleep(random.randint(1,20))\n",
    "    return x + y\n",
    "\n",
    "async def print_sum(x, y):\n",
    "    result = await compute(x, y)\n",
    "    print(\"%s + %s = %s\" % (x, y, result))\n",
    "\n",
    "loop = asyncio.get_event_loop()\n",
    "coroutine = [print_sum(i, i + 1) for i in range(10)]\n",
    "print(coroutine)\n",
    "result = loop.run_until_complete(asyncio.wait(coroutine)) # yield from...\n",
    "print(result)"
   ]
  },
  {
   "cell_type": "code",
   "execution_count": null,
   "metadata": {
    "slideshow": {
     "slide_type": "subslide"
    }
   },
   "outputs": [],
   "source": [
    "[<coroutine object print_sum at 0x7f92aa825db0>, <coroutine object print_sum at 0x7f92a73a9990>, <coroutine object print_sum at 0x7f92a73a9938>, <coroutine object print_sum at 0x7f92a73a9a40>, <coroutine object print_sum at 0x7f92a73a9a98>, <coroutine object print_sum at 0x7f92a73a9af0>, <coroutine object print_sum at 0x7f92a73a9b48>, <coroutine object print_sum at 0x7f92a73a9ba0>, <coroutine object print_sum at 0x7f92a73a9bf8>, <coroutine object print_sum at 0x7f92a73a9c50>]\n",
    "Compute 4 + 5 ...\n",
    "Compute 2 + 3 ...\n",
    "Compute 5 + 6 ...\n",
    "Compute 1 + 2 ...\n",
    "Compute 6 + 7 ...\n",
    "Compute 0 + 1 ...\n",
    "Compute 7 + 8 ...\n",
    "Compute 8 + 9 ...\n",
    "Compute 3 + 4 ...\n",
    "Compute 9 + 10 ...\n",
    "9 + 10 = 19\n",
    "6 + 7 = 13\n",
    "7 + 8 = 15\n",
    "3 + 4 = 7\n",
    "2 + 3 = 5\n",
    "1 + 2 = 3\n",
    "4 + 5 = 9\n",
    "0 + 1 = 1\n",
    "5 + 6 = 11\n",
    "8 + 9 = 17\n",
    "({<Task finished coro=<print_sum() done, defined at ...> result=None>, <Task finished coro=<print_sum() done, defined at ...>})"
   ]
  },
  {
   "cell_type": "markdown",
   "metadata": {
    "slideshow": {
     "slide_type": "subslide"
    }
   },
   "source": [
    "\n",
    "<center><img src=\"imgs/tulip_coro.png\">\n",
    "</center>\n"
   ]
  },
  {
   "cell_type": "code",
   "execution_count": 54,
   "metadata": {
    "slideshow": {
     "slide_type": "skip"
    }
   },
   "outputs": [],
   "source": [
    "# asyncio_5_futures\n",
    "import asyncio\n",
    "import json\n",
    "\n",
    "import aiohttp\n",
    "\n",
    "results = []\n",
    "\n",
    "\n",
    "async def fetch(future, url):\n",
    "    async with aiohttp.ClientSession() as session:\n",
    "        async with session.get(url) as resp:\n",
    "            future.set_result(await resp.text())\n",
    "\n",
    "\n",
    "def got_result(future):\n",
    "    result = (future.result())\n",
    "    results.append(json.loads(result))"
   ]
  },
  {
   "cell_type": "code",
   "execution_count": 55,
   "metadata": {
    "slideshow": {
     "slide_type": "skip"
    }
   },
   "outputs": [
    {
     "name": "stdout",
     "output_type": "stream",
     "text": [
      "0\n",
      "2\n"
     ]
    }
   ],
   "source": [
    "loop = asyncio.get_event_loop()\n",
    "future1 = asyncio.Future()\n",
    "future2 = asyncio.Future()\n",
    "\n",
    "asyncio.ensure_future(fetch(future1, \"https://ghibliapi.herokuapp.com/films/2baf70d1-42bb-4437-b551-e5fed5a87abe\"))\n",
    "future1.add_done_callback(got_result)\n",
    "asyncio.ensure_future(fetch(future2, \"https://ghibliapi.herokuapp.com/people/ba924631-068e-4436-b6de-f3283fa848f0\"))\n",
    "future2.add_done_callback(got_result)\n",
    "\n",
    "# RESULTS?\n",
    "print(len(results))  # -> 0\n",
    "    \n",
    "# RUN LOOP\n",
    "loop.run_until_complete(future1)\n",
    "loop.run_until_complete(future2)\n",
    "\n",
    "# RESULTS?\n",
    "print(len(results))   # -> 2\n",
    "\n",
    "assert json.loads(future1.result()) == results[0]\n",
    "\n",
    "assert json.loads(future2.result()) == results[1]\n"
   ]
  },
  {
   "cell_type": "code",
   "execution_count": 3,
   "metadata": {
    "slideshow": {
     "slide_type": "slide"
    }
   },
   "outputs": [],
   "source": [
    "import random\n",
    "import asyncio\n",
    "\n",
    "\n",
    "async def say_boo():\n",
    "    i = 0\n",
    "    while i < 5:\n",
    "        print('...boo {0}'.format(i))\n",
    "        i += 1\n",
    "        await asyncio.sleep(random.randint(0, 5))\n",
    "\n",
    "\n",
    "async def say_baa():\n",
    "    i = 0\n",
    "    while i < 5:\n",
    "        print('...baa {0}'.format(i))\n",
    "        i += 1\n",
    "        await asyncio.sleep(random.randint(0, 2))\n",
    "        \n",
    "loop = asyncio.get_event_loop()\n",
    "corrutine_boo = say_boo()\n",
    "print(corrutine_boo)\n",
    "asyncio.ensure_future(corrutine_boo)\n",
    "asyncio.ensure_future(say_baa())\n",
    "\n",
    "loop.run_forever()"
   ]
  },
  {
   "cell_type": "code",
   "execution_count": null,
   "metadata": {
    "slideshow": {
     "slide_type": "subslide"
    }
   },
   "outputs": [],
   "source": [
    "<coroutine object say_boo at 0x7fc680eb3f68>\n",
    "...boo 0\n",
    "...baa 0\n",
    "...boo 1\n",
    "...boo 4\n",
    "...baa 1\n",
    "...baa 2\n",
    "...baa 3\n",
    "...baa 4\n",
    "...boo 2\n",
    "...boo 3\n",
    "...boo 4"
   ]
  },
  {
   "cell_type": "code",
   "execution_count": 4,
   "metadata": {
    "slideshow": {
     "slide_type": "slide"
    }
   },
   "outputs": [],
   "source": [
    "import asyncio\n",
    "from concurrent.futures import ProcessPoolExecutor\n",
    "\n",
    "\n",
    "def say_boo():\n",
    "    i = 0\n",
    "    while i < 5:\n",
    "        print('...boo {0}'.format(i))\n",
    "        i += 1\n",
    "\n",
    "\n",
    "def say_baa():\n",
    "    i = 0\n",
    "    while i < 5:\n",
    "        print('...baa {0}'.format(i))\n",
    "        i += 1\n",
    "\n",
    "\n",
    "executor = ProcessPoolExecutor(2)\n",
    "loop = asyncio.get_event_loop()\n",
    "future = loop.run_in_executor(executor, say_boo)\n",
    "print(future)\n",
    "boo = asyncio.ensure_future(future)\n",
    "baa = asyncio.ensure_future(loop.run_in_executor(executor, say_baa))"
   ]
  },
  {
   "cell_type": "code",
   "execution_count": null,
   "metadata": {
    "slideshow": {
     "slide_type": "subslide"
    }
   },
   "outputs": [],
   "source": [
    "<Future pending cb=[_chain_future.<locals>._call_check_cancel() at /usr/lib/python3.6/asyncio/futures.py:408]>\n",
    "...boo 0\n",
    "...baa 0\n",
    "...baa 1\n",
    "...baa 2\n",
    "...baa 3\n",
    "...baa 4\n",
    "...boo 1\n",
    "...boo 2\n",
    "...boo 3\n",
    "...boo 4"
   ]
  },
  {
   "cell_type": "markdown",
   "metadata": {
    "slideshow": {
     "slide_type": "skip"
    }
   },
   "source": [
    "<center><img src=\"imgs/asyncio_0_basic_02.py.png\">\n",
    "</center>\n"
   ]
  },
  {
   "cell_type": "code",
   "execution_count": 24,
   "metadata": {
    "slideshow": {
     "slide_type": "slide"
    }
   },
   "outputs": [
    {
     "name": "stdout",
     "output_type": "stream",
     "text": [
      "Result: ...boo 0\n",
      "Result: ...boo 1\n",
      "Result: ...boo 2\n",
      "Result: ...boo 3\n",
      "Result: ...boo 4\n",
      "Result: ...boo 5\n",
      "Result: ...boo 6\n",
      "Result: ...boo 7\n",
      "Result: ...boo 8\n",
      "Result: ...boo 9\n"
     ]
    }
   ],
   "source": [
    "#asyncio_0_basic_03.py\n",
    "import asyncio\n",
    "import concurrent.futures\n",
    "from time import sleep\n",
    "import random\n",
    "\n",
    "loop = asyncio.get_event_loop()\n",
    "\n",
    "\n",
    "def say_boo(i):\n",
    "    sleep(random.randint(1, 5))\n",
    "    return '...boo {0}'.format(i)\n",
    "\n",
    "async def thread_results():\n",
    "    with concurrent.futures.ThreadPoolExecutor(max_workers=90) as executor:\n",
    "        futures = [loop.run_in_executor(executor, say_boo, value) for value in range(10)]\n",
    "        for result in await asyncio.gather(*futures):\n",
    "            print(\"Result\", end=\": \")\n",
    "            print(result)\n",
    "\n",
    "loop.run_until_complete(thread_results())\n"
   ]
  },
  {
   "cell_type": "markdown",
   "metadata": {
    "slideshow": {
     "slide_type": "subslide"
    }
   },
   "source": [
    "<center><img src=\"imgs/asyncio_0_basic_03.py.png\">\n",
    "</center>\n"
   ]
  },
  {
   "cell_type": "code",
   "execution_count": 1,
   "metadata": {
    "slideshow": {
     "slide_type": "slide"
    }
   },
   "outputs": [],
   "source": [
    "import asyncio\n",
    "import concurrent.futures\n",
    "from time import sleep\n",
    "import random\n",
    "\n",
    "@views_bp.route('/bulk', methods=['POST'])\n",
    "def bulk_create(type_fraud):\n",
    "    data = request.files[\"data\"]\n",
    "    df = pd.read_csv(data)\n",
    "    results = []\n",
    "    loop = asyncio.new_event_loop()\n",
    "    asyncio.set_event_loop(loop)\n",
    "    with concurrent.futures.ThreadPoolExecutor() as executor:\n",
    "        futures = [loop.run_in_executor(executor, save_on_db, row[1].ix[0], type_fraud, False) for row in\n",
    "                   df.iterrows()]\n",
    "        results = loop.run_until_complete(asyncio.gather(*futures))"
   ]
  },
  {
   "cell_type": "markdown",
   "metadata": {
    "slideshow": {
     "slide_type": "slide"
    }
   },
   "source": [
    "<h1 id=\"+-Info-en:\"><center>+ Info en:</center><a class=\"anchor-link\" href=\"#+-Info-en:\">&#182;</a></h1>\n",
    "\n",
    "<div class=\"mas_info\">\n",
    "\n",
    "<p class=\"info_datos\"><img src=\"imgs/github.svg\" style=\"width: 30px; float: left; margin-right: 20px;\"> https://github.com/avara1986/python2to3</p>\n",
    "<p  class=\"info_datos\"><img src=\"imgs/twitter.png\" style=\"width: 30px; float: left; margin-right: 20px;\"> @a_vara_n</p>\n",
    "<br/>\n",
    "<p>Python Whats new: <br><a href=\"https://docs.python.org/3/whatsnew/3.5.html\">https://docs.python.org/3/whatsnew/3.5.html</a></p>\n",
    "<p>Writing Python 2-3 compatible code Cheat Sheet: <br><a href=\"http://python-future.org/compatible_idioms.html\">http://python-future.org/compatible_idioms.html</a></p>"
   ]
  },
  {
   "cell_type": "markdown",
   "metadata": {
    "slideshow": {
     "slide_type": "slide"
    }
   },
   "source": [
    "# <center>¡GRACIAS POR VUESTRO TIEMPO!</center>\n",
    "# <center>¿Preguntas?</center>\n",
    "<center><img src=\"imgs/silly_walk.gif\">\n",
    "</center>\n"
   ]
  }
 ],
 "metadata": {
  "celltoolbar": "Slideshow",
  "kernelspec": {
   "display_name": "Python 3",
   "language": "python",
   "name": "python3"
  },
  "language_info": {
   "codemirror_mode": {
    "name": "ipython",
    "version": 3
   },
   "file_extension": ".py",
   "mimetype": "text/x-python",
   "name": "python",
   "nbconvert_exporter": "python",
   "pygments_lexer": "ipython3",
   "version": "3.6.3"
  }
 },
 "nbformat": 4,
 "nbformat_minor": 2
}
