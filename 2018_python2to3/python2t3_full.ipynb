{
 "cells": [
  {
   "cell_type": "markdown",
   "metadata": {
    "slideshow": {
     "slide_type": "slide"
    }
   },
   "source": [
    "\n",
    "# <center>PYTHON 3 IS COMING</center>\n",
    "\n",
    "<center><img src=\"imgs/decorator.jpg\">\n",
    "</center>"
   ]
  },
  {
   "cell_type": "markdown",
   "metadata": {
    "slideshow": {
     "slide_type": "slide"
    }
   },
   "source": [
    "## ¿Por qué esta temática?"
   ]
  },
  {
   "cell_type": "markdown",
   "metadata": {
    "slideshow": {
     "slide_type": "slide"
    }
   },
   "source": [
    "<center><img src=\"imgs/python2016.png\" style=\"width: 60%;\">\n",
    "</center>\n",
    "\n",
    "fuente: https://semaphoreci.com/blog/2016/11/11/python-versions-used-in-commercial-projects-2016-edition.html"
   ]
  },
  {
   "cell_type": "markdown",
   "metadata": {
    "slideshow": {
     "slide_type": "slide"
    }
   },
   "source": [
    "<center><img src=\"imgs/python2017.png\" style=\"width: 60%;\">\n",
    "</center>\n",
    "\n",
    "fuente: https://semaphoreci.com/blog/2017/10/18/python-versions-used-in-commercial-projects-in-2017.html"
   ]
  },
  {
   "cell_type": "markdown",
   "metadata": {
    "slideshow": {
     "slide_type": "slide"
    }
   },
   "source": [
    "## Writing Python 2-3 compatible code"
   ]
  },
  {
   "cell_type": "markdown",
   "metadata": {
    "slideshow": {
     "slide_type": "notes"
    }
   },
   "source": [
    "Librerías para usar código compatible"
   ]
  },
  {
   "cell_type": "code",
   "execution_count": 3,
   "metadata": {
    "slideshow": {
     "slide_type": "fragment"
    }
   },
   "outputs": [],
   "source": [
    "import future        # pip install future\n",
    "import builtins      # pip install future\n",
    "import past          # pip install future\n",
    "import six           # pip install six"
   ]
  },
  {
   "cell_type": "markdown",
   "metadata": {
    "slideshow": {
     "slide_type": "notes"
    }
   },
   "source": [
    "Ejemplos usando `six` para que sea compatible entre python2 y 3"
   ]
  },
  {
   "cell_type": "code",
   "execution_count": 6,
   "metadata": {
    "slideshow": {
     "slide_type": "slide"
    }
   },
   "outputs": [
    {
     "name": "stdout",
     "output_type": "stream",
     "text": [
      "a\n",
      "<class 'str'>\n"
     ]
    }
   ],
   "source": [
    "print(six.text_type(\"a\"))\n",
    "print(type(six.text_type(\"a\")))"
   ]
  },
  {
   "cell_type": "markdown",
   "metadata": {
    "slideshow": {
     "slide_type": "notes"
    }
   },
   "source": [
    "Se puede conseguir el mismo resultado usando `__future__`"
   ]
  },
  {
   "cell_type": "code",
   "execution_count": 14,
   "metadata": {
    "slideshow": {
     "slide_type": "fragment"
    }
   },
   "outputs": [
    {
     "name": "stdout",
     "output_type": "stream",
     "text": [
      "a\n",
      "<class 'str'>\n"
     ]
    }
   ],
   "source": [
    "from __future__ import (unicode_literals)\n",
    "print(\"a\")\n",
    "print(type(\"a\"))"
   ]
  },
  {
   "cell_type": "markdown",
   "metadata": {
    "slideshow": {
     "slide_type": "notes"
    }
   },
   "source": [
    "De forma contraria, usando `past` podemos usar la forma que se hacía en python 2"
   ]
  },
  {
   "cell_type": "code",
   "execution_count": 16,
   "metadata": {
    "slideshow": {
     "slide_type": "fragment"
    }
   },
   "outputs": [
    {
     "name": "stdout",
     "output_type": "stream",
     "text": [
      "å­å­\n",
      "<class 'past.types.oldstr.oldstr'>\n"
     ]
    }
   ],
   "source": [
    "from past.builtins import (str as oldstr, range, reduce,\n",
    "                               raw_input, xrange, div)\n",
    "texto = oldstr(u'孔子'.encode('utf-8'))\n",
    "print(texto)\n",
    "print(type(texto))\n"
   ]
  },
  {
   "cell_type": "markdown",
   "metadata": {
    "slideshow": {
     "slide_type": "slide"
    }
   },
   "source": [
    "### Print"
   ]
  },
  {
   "cell_type": "code",
   "execution_count": 2,
   "metadata": {
    "slideshow": {
     "slide_type": "fragment"
    }
   },
   "outputs": [
    {
     "ename": "SyntaxError",
     "evalue": "Missing parentheses in call to 'print'. Did you mean print('Hello')? (<ipython-input-2-5a72acd229f8>, line 2)",
     "traceback": [
      "\u001b[0;36m  File \u001b[0;32m\"<ipython-input-2-5a72acd229f8>\"\u001b[0;36m, line \u001b[0;32m2\u001b[0m\n\u001b[0;31m    print 'Hello'\u001b[0m\n\u001b[0m                ^\u001b[0m\n\u001b[0;31mSyntaxError\u001b[0m\u001b[0;31m:\u001b[0m Missing parentheses in call to 'print'. Did you mean print('Hello')?\n"
     ],
     "output_type": "error"
    }
   ],
   "source": [
    "# Python 2 only:\n",
    "print 'Hello'"
   ]
  },
  {
   "cell_type": "code",
   "execution_count": null,
   "metadata": {
    "slideshow": {
     "slide_type": "fragment"
    }
   },
   "outputs": [],
   "source": [
    "# Python 3:\n",
    "print('Hello')"
   ]
  },
  {
   "cell_type": "code",
   "execution_count": null,
   "metadata": {
    "slideshow": {
     "slide_type": "fragment"
    }
   },
   "outputs": [],
   "source": [
    "# Python 2 and 3:\n",
    "from __future__ import print_function    # (at top of module)\n",
    "\n",
    "print('Hello', 'Guido',sep=\" | \", end=\"!\")"
   ]
  },
  {
   "cell_type": "markdown",
   "metadata": {
    "slideshow": {
     "slide_type": "slide"
    }
   },
   "source": [
    "### Raising exceptions"
   ]
  },
  {
   "cell_type": "code",
   "execution_count": null,
   "metadata": {
    "slideshow": {
     "slide_type": "fragment"
    }
   },
   "outputs": [],
   "source": [
    "# Python 2 only:\n",
    "raise ValueError, \"dodgy value\""
   ]
  },
  {
   "cell_type": "code",
   "execution_count": null,
   "metadata": {
    "slideshow": {
     "slide_type": "fragment"
    }
   },
   "outputs": [],
   "source": [
    "# Python 2 and 3:\n",
    "raise ValueError(\"dodgy value\")"
   ]
  },
  {
   "cell_type": "markdown",
   "metadata": {
    "slideshow": {
     "slide_type": "slide"
    }
   },
   "source": [
    "### Catching exceptions"
   ]
  },
  {
   "cell_type": "code",
   "execution_count": null,
   "metadata": {
    "slideshow": {
     "slide_type": "fragment"
    }
   },
   "outputs": [],
   "source": [
    "# Python 2 only:\n",
    "try:\n",
    "    ...\n",
    "except ValueError, e:\n",
    "    ..."
   ]
  },
  {
   "cell_type": "code",
   "execution_count": null,
   "metadata": {
    "slideshow": {
     "slide_type": "fragment"
    }
   },
   "outputs": [],
   "source": [
    "# Python 2 and 3:\n",
    "try:\n",
    "    ...\n",
    "except ValueError as e:\n",
    "    ..."
   ]
  },
  {
   "cell_type": "markdown",
   "metadata": {
    "slideshow": {
     "slide_type": "slide"
    }
   },
   "source": [
    "### Division"
   ]
  },
  {
   "cell_type": "code",
   "execution_count": 2,
   "metadata": {
    "slideshow": {
     "slide_type": "fragment"
    }
   },
   "outputs": [
    {
     "ename": "AssertionError",
     "evalue": "",
     "traceback": [
      "\u001b[0;31m---------------------------------------------------------------------------\u001b[0m",
      "\u001b[0;31mAssertionError\u001b[0m                            Traceback (most recent call last)",
      "\u001b[0;32m<ipython-input-2-ae3e0dc04e3c>\u001b[0m in \u001b[0;36m<module>\u001b[0;34m()\u001b[0m\n\u001b[1;32m      1\u001b[0m \u001b[0;31m# Python 2 only:\u001b[0m\u001b[0;34m\u001b[0m\u001b[0;34m\u001b[0m\u001b[0m\n\u001b[0;32m----> 2\u001b[0;31m \u001b[0;32massert\u001b[0m \u001b[0;36m2\u001b[0m \u001b[0;34m/\u001b[0m \u001b[0;36m3\u001b[0m \u001b[0;34m==\u001b[0m \u001b[0;36m0\u001b[0m\u001b[0;34m\u001b[0m\u001b[0m\n\u001b[0m",
      "\u001b[0;31mAssertionError\u001b[0m: "
     ],
     "output_type": "error"
    }
   ],
   "source": [
    "# Python 2 only:\n",
    "assert 2 / 3 == 0"
   ]
  },
  {
   "cell_type": "code",
   "execution_count": 3,
   "metadata": {
    "slideshow": {
     "slide_type": "fragment"
    }
   },
   "outputs": [],
   "source": [
    "# Python 2 and 3:\n",
    "assert 2 // 3 == 0"
   ]
  },
  {
   "cell_type": "code",
   "execution_count": 4,
   "metadata": {
    "slideshow": {
     "slide_type": "fragment"
    }
   },
   "outputs": [],
   "source": [
    "# Python 3 only:\n",
    "assert 3 / 2 == 1.5"
   ]
  },
  {
   "cell_type": "code",
   "execution_count": 5,
   "metadata": {
    "slideshow": {
     "slide_type": "fragment"
    }
   },
   "outputs": [],
   "source": [
    "# Python 2 and 3:\n",
    "from __future__ import division    # (at top of module)\n",
    "\n",
    "assert 3 / 2 == 1.5"
   ]
  },
  {
   "cell_type": "markdown",
   "metadata": {
    "slideshow": {
     "slide_type": "slide"
    }
   },
   "source": [
    "### Metaclasses"
   ]
  },
  {
   "cell_type": "code",
   "execution_count": 13,
   "metadata": {
    "slideshow": {
     "slide_type": "fragment"
    }
   },
   "outputs": [],
   "source": [
    "from abc import ABCMeta\n",
    "# Python 2 only:\n",
    "class MyABC:\n",
    "    __metaclass__ = ABCMeta\n",
    "    pass"
   ]
  },
  {
   "cell_type": "code",
   "execution_count": 10,
   "metadata": {
    "slideshow": {
     "slide_type": "fragment"
    }
   },
   "outputs": [],
   "source": [
    "from abc import ABC, ABCMeta\n",
    "\n",
    "class MyABC(ABC):\n",
    "    pass\n",
    "\n",
    "class MyABC2(metaclass=ABCMeta):\n",
    "    pass"
   ]
  },
  {
   "cell_type": "markdown",
   "metadata": {
    "slideshow": {
     "slide_type": "slide"
    }
   },
   "source": [
    "### Unicode & Byte\n",
    "\n",
    "En Python 2, `str` es una secuencia de bytes. `unicode` es una representación de un texto\n",
    "\n",
    "En Python 3, `unicode` == `str` y `str` de Python 2 ahora es `bytes`\n"
   ]
  },
  {
   "cell_type": "code",
   "execution_count": null,
   "metadata": {
    "slideshow": {
     "slide_type": "fragment"
    }
   },
   "outputs": [],
   "source": [
    "# Python 2 only\n",
    "s1 = 'The Zen of Python'\n",
    "s2 = u'きたないのよりきれいな方がいい\\n'\n",
    "\n",
    "# Python 2 and 3\n",
    "s1 = u'The Zen of Python'\n",
    "s2 = u'きたないのよりきれいな方がいい\\n'"
   ]
  },
  {
   "cell_type": "code",
   "execution_count": null,
   "metadata": {
    "slideshow": {
     "slide_type": "subslide"
    }
   },
   "outputs": [],
   "source": [
    "# Python 2 and 3\n",
    "from __future__ import unicode_literals    # at top of module\n",
    "\n",
    "s1 = 'The Zen of Python'\n",
    "s2 = 'きたないのよりきれいな方がいい\\n'"
   ]
  },
  {
   "cell_type": "code",
   "execution_count": null,
   "metadata": {
    "slideshow": {
     "slide_type": "fragment"
    }
   },
   "outputs": [],
   "source": [
    "# Python 2 only\n",
    "s = 'This must be a byte-string'\n",
    "\n",
    "# Python 2 and 3\n",
    "s = b'This must be a byte-string'"
   ]
  },
  {
   "cell_type": "code",
   "execution_count": null,
   "metadata": {
    "slideshow": {
     "slide_type": "fragment"
    }
   },
   "outputs": [],
   "source": [
    "# Python 2 only:\n",
    "templates = [u\"blog/blog_post_detail_%s.html\" % unicode(slug)]\n",
    "# Python 2 and 3: alternative 1\n",
    "from builtins import str\n",
    "templates = [u\"blog/blog_post_detail_%s.html\" % str(slug)]\n",
    "# Python 2 and 3: alternative 2\n",
    "from builtins import str as text\n",
    "templates = [u\"blog/blog_post_detail_%s.html\" % text(slug)]"
   ]
  },
  {
   "cell_type": "markdown",
   "metadata": {
    "slideshow": {
     "slide_type": "slide"
    }
   },
   "source": [
    "### StringIO"
   ]
  },
  {
   "cell_type": "code",
   "execution_count": 7,
   "metadata": {
    "slideshow": {
     "slide_type": "fragment"
    }
   },
   "outputs": [
    {
     "ename": "ModuleNotFoundError",
     "evalue": "No module named 'StringIO'",
     "traceback": [
      "\u001b[0;31m---------------------------------------------------------------------------\u001b[0m",
      "\u001b[0;31mModuleNotFoundError\u001b[0m                       Traceback (most recent call last)",
      "\u001b[0;32m<ipython-input-7-be2f4031856b>\u001b[0m in \u001b[0;36m<module>\u001b[0;34m()\u001b[0m\n\u001b[1;32m      1\u001b[0m \u001b[0;31m# Python 2 only:\u001b[0m\u001b[0;34m\u001b[0m\u001b[0;34m\u001b[0m\u001b[0m\n\u001b[0;32m----> 2\u001b[0;31m \u001b[0;32mfrom\u001b[0m \u001b[0mStringIO\u001b[0m \u001b[0;32mimport\u001b[0m \u001b[0mStringIO\u001b[0m\u001b[0;34m\u001b[0m\u001b[0m\n\u001b[0m\u001b[1;32m      3\u001b[0m \u001b[0;31m# or:\u001b[0m\u001b[0;34m\u001b[0m\u001b[0;34m\u001b[0m\u001b[0m\n\u001b[1;32m      4\u001b[0m \u001b[0;32mfrom\u001b[0m \u001b[0mcStringIO\u001b[0m \u001b[0;32mimport\u001b[0m \u001b[0mStringIO\u001b[0m\u001b[0;34m\u001b[0m\u001b[0m\n\u001b[1;32m      5\u001b[0m \u001b[0;34m\u001b[0m\u001b[0m\n",
      "\u001b[0;31mModuleNotFoundError\u001b[0m: No module named 'StringIO'"
     ],
     "output_type": "error"
    }
   ],
   "source": [
    "# Python 2 only:\n",
    "from StringIO import StringIO\n",
    "# or:\n",
    "from cStringIO import StringIO\n",
    "\n",
    "# Python 2 only\n",
    "f = open('myfile.txt')\n",
    "data = f.read()              # as a byte string\n",
    "text = data.decode('utf-8')"
   ]
  },
  {
   "cell_type": "code",
   "execution_count": 8,
   "metadata": {
    "slideshow": {
     "slide_type": "subslide"
    }
   },
   "outputs": [
    {
     "name": "stdout",
     "output_type": "stream",
     "text": [
      "Hello world Python3\n",
      "Hello world Python2\n",
      "\n",
      "Hello world Python3\n",
      "Hello world Python2\n",
      "\n"
     ]
    }
   ],
   "source": [
    "# Python 2 and 3:\n",
    "from io import BytesIO     # for handling byte strings\n",
    "from io import StringIO    # for handling unicode strings\n",
    "\n",
    "# Python 2 and 3: alternative 1\n",
    "from io import open\n",
    "f = open('myfile.txt', 'rb')\n",
    "data = f.read()              # as bytes\n",
    "text = data.decode('utf-8')  # unicode, not bytes\n",
    "print(text)\n",
    "\n",
    "# Python 2 and 3: alternative 2\n",
    "f = open('myfile.txt', encoding='utf-8')\n",
    "text = f.read()    # unicode, not bytes\n",
    "print(text)"
   ]
  },
  {
   "cell_type": "markdown",
   "metadata": {
    "slideshow": {
     "slide_type": "slide"
    }
   },
   "source": [
    "### Custom __str__ methods"
   ]
  },
  {
   "cell_type": "code",
   "execution_count": null,
   "metadata": {
    "slideshow": {
     "slide_type": "fragment"
    }
   },
   "outputs": [],
   "source": [
    "# Python 2 only:\n",
    "class MyClass(object):\n",
    "    def __unicode__(self):\n",
    "        return 'Unicode string: \\u5b54\\u5b50'\n",
    "    def __str__(self):\n",
    "        return unicode(self).encode('utf-8')\n",
    "\n",
    "a = MyClass()\n",
    "print(a)    # prints encoded string\n",
    "\n",
    "# Python 2 and 3:\n",
    "from future.utils import python_2_unicode_compatible\n",
    "\n",
    "@python_2_unicode_compatible\n",
    "class MyClass(object):\n",
    "    def __str__(self):\n",
    "        return u'Unicode string: \\u5b54\\u5b50'\n",
    "\n",
    "a = MyClass()\n",
    "print(a)    # prints string encoded as utf-8 on Py2\n",
    "\n",
    "from __future__ import unicode_literals\n",
    "from django.utils.encoding import python_2_unicode_compatible\n",
    "\n",
    "@python_2_unicode_compatible\n",
    "class MyClass(object):\n",
    "    def __str__(self):\n",
    "        return \"Instance of my class\""
   ]
  },
  {
   "cell_type": "markdown",
   "metadata": {
    "slideshow": {
     "slide_type": "slide"
    }
   },
   "source": [
    "### Imports relative"
   ]
  },
  {
   "cell_type": "markdown",
   "metadata": {
    "slideshow": {
     "slide_type": "fragment"
    }
   },
   "source": [
    "Suppose the package is:\n",
    "\n",
    "``\n",
    "mypackage/\n",
    "    __init__.py\n",
    "    submodule1.py\n",
    "    submodule2.py\n",
    "``\n"
   ]
  },
  {
   "cell_type": "code",
   "execution_count": null,
   "metadata": {
    "slideshow": {
     "slide_type": "fragment"
    }
   },
   "outputs": [],
   "source": [
    "# Python 2 only:\n",
    "import submodule2\n",
    "# Python 2 and 3:\n",
    "from . import submodule2\n",
    "# Python 2 and 3:\n",
    "# To make Py2 code safer (more like Py3) by preventing\n",
    "# implicit relative imports, you can also add this to the top:\n",
    "from __future__ import absolute_import"
   ]
  },
  {
   "cell_type": "markdown",
   "metadata": {
    "slideshow": {
     "slide_type": "slide"
    }
   },
   "source": [
    "### Dictionaries"
   ]
  },
  {
   "cell_type": "markdown",
   "metadata": {
    "slideshow": {
     "slide_type": "slide"
    }
   },
   "source": [
    "#### Iterar sobre las claves"
   ]
  },
  {
   "cell_type": "code",
   "execution_count": null,
   "metadata": {
    "slideshow": {
     "slide_type": "fragment"
    }
   },
   "outputs": [],
   "source": [
    "# Python 2 only:\n",
    "heights = {'Fred': 175, 'Anne': 166, 'Joe': 192}\n",
    "for key in heights.iterkeys():\n",
    "    print(key)"
   ]
  },
  {
   "cell_type": "code",
   "execution_count": null,
   "metadata": {
    "slideshow": {
     "slide_type": "fragment"
    }
   },
   "outputs": [],
   "source": [
    "# Python 2 and 3:\n",
    "heights = {'Fred': 175, 'Anne': 166, 'Joe': 192}\n",
    "for key in heights:\n",
    "    print(key)"
   ]
  },
  {
   "cell_type": "markdown",
   "metadata": {
    "slideshow": {
     "slide_type": "slide"
    }
   },
   "source": [
    "#### Iterar sobre los valores"
   ]
  },
  {
   "cell_type": "code",
   "execution_count": null,
   "metadata": {
    "slideshow": {
     "slide_type": "fragment"
    }
   },
   "outputs": [],
   "source": [
    "heights = {'Fred': 175, 'Anne': 166, 'Joe': 192}\n",
    "# Python 2 only:\n",
    "for value in heights.itervalues():\n",
    "    print(value)"
   ]
  },
  {
   "cell_type": "code",
   "execution_count": 5,
   "metadata": {
    "slideshow": {
     "slide_type": "subslide"
    }
   },
   "outputs": [
    {
     "name": "stdout",
     "output_type": "stream",
     "text": [
      "175\n",
      "166\n",
      "192\n"
     ]
    }
   ],
   "source": [
    "heights = {'Fred': 175, 'Anne': 166, 'Joe': 192}\n",
    "# Idiomatic Python 3\n",
    "for value in heights.values():    # extra memory overhead on Py2\n",
    "    print(value)"
   ]
  },
  {
   "cell_type": "code",
   "execution_count": 6,
   "metadata": {
    "slideshow": {
     "slide_type": "subslide"
    }
   },
   "outputs": [
    {
     "name": "stdout",
     "output_type": "stream",
     "text": [
      "175\n",
      "166\n",
      "192\n"
     ]
    }
   ],
   "source": [
    "# Python 2 and 3: option 2\n",
    "from six import itervalues\n",
    "\n",
    "for value in itervalues(heights):\n",
    "    print(value)"
   ]
  },
  {
   "cell_type": "markdown",
   "metadata": {
    "slideshow": {
     "slide_type": "slide"
    }
   },
   "source": [
    "#### Iterar sobre elementos de un diccionarios"
   ]
  },
  {
   "cell_type": "code",
   "execution_count": null,
   "metadata": {
    "slideshow": {
     "slide_type": "fragment"
    }
   },
   "outputs": [],
   "source": [
    "# Python 2 only:\n",
    "for (key, value) in heights.iteritems():\n",
    "    print(value)"
   ]
  },
  {
   "cell_type": "code",
   "execution_count": 8,
   "metadata": {
    "slideshow": {
     "slide_type": "fragment"
    }
   },
   "outputs": [
    {
     "name": "stdout",
     "output_type": "stream",
     "text": [
      "Fred: 175\n",
      "Anne: 166\n",
      "Joe: 192\n"
     ]
    }
   ],
   "source": [
    "# Python 2 and 3: option 1\n",
    "for (key, value) in heights.items():    # inefficient on Py2\n",
    "    print(key, value, sep=\": \")"
   ]
  },
  {
   "cell_type": "code",
   "execution_count": 10,
   "metadata": {
    "slideshow": {
     "slide_type": "fragment"
    }
   },
   "outputs": [
    {
     "name": "stdout",
     "output_type": "stream",
     "text": [
      "Opción 1:\n",
      "Fred: 175\n",
      "Anne: 166\n",
      "Joe: 192\n",
      "Opción 2:\n",
      "Fred: 175\n",
      "Anne: 166\n",
      "Joe: 192\n"
     ]
    }
   ],
   "source": [
    "# Python 2 and 3: option 2\n",
    "from future.utils import viewitems\n",
    "\n",
    "print(\"Opción 1:\")\n",
    "for (key, value) in viewitems(heights):   # also behaves like a set\n",
    "    print(key, value, sep=\": \")\n",
    "# Python 2 and 3: option 3\n",
    "from future.utils import iteritems\n",
    "# or\n",
    "from six import iteritems\n",
    "\n",
    "print(\"Opción 2:\")\n",
    "for (key, value) in iteritems(heights):\n",
    "    print(key, value, sep=\": \")"
   ]
  },
  {
   "cell_type": "markdown",
   "metadata": {
    "slideshow": {
     "slide_type": "slide"
    }
   },
   "source": [
    "#### Iterar sobre claves de un diccionarios"
   ]
  },
  {
   "cell_type": "code",
   "execution_count": 12,
   "metadata": {
    "slideshow": {
     "slide_type": "fragment"
    }
   },
   "outputs": [
    {
     "ename": "AssertionError",
     "evalue": "",
     "traceback": [
      "\u001b[0;31m---------------------------------------------------------------------------\u001b[0m",
      "\u001b[0;31mAssertionError\u001b[0m                            Traceback (most recent call last)",
      "\u001b[0;32m<ipython-input-12-873414b0674e>\u001b[0m in \u001b[0;36m<module>\u001b[0;34m()\u001b[0m\n\u001b[1;32m      1\u001b[0m \u001b[0;31m# Python 2 only:\u001b[0m\u001b[0;34m\u001b[0m\u001b[0;34m\u001b[0m\u001b[0m\n\u001b[1;32m      2\u001b[0m \u001b[0mkeylist\u001b[0m \u001b[0;34m=\u001b[0m \u001b[0mheights\u001b[0m\u001b[0;34m.\u001b[0m\u001b[0mkeys\u001b[0m\u001b[0;34m(\u001b[0m\u001b[0;34m)\u001b[0m\u001b[0;34m\u001b[0m\u001b[0m\n\u001b[0;32m----> 3\u001b[0;31m \u001b[0;32massert\u001b[0m \u001b[0misinstance\u001b[0m\u001b[0;34m(\u001b[0m\u001b[0mkeylist\u001b[0m\u001b[0;34m,\u001b[0m \u001b[0mlist\u001b[0m\u001b[0;34m)\u001b[0m\u001b[0;34m\u001b[0m\u001b[0m\n\u001b[0m",
      "\u001b[0;31mAssertionError\u001b[0m: "
     ],
     "output_type": "error"
    }
   ],
   "source": [
    "# Python 2 only:\n",
    "keylist = heights.keys()\n",
    "assert isinstance(keylist, list)"
   ]
  },
  {
   "cell_type": "code",
   "execution_count": 14,
   "metadata": {
    "slideshow": {
     "slide_type": "fragment"
    }
   },
   "outputs": [
    {
     "name": "stdout",
     "output_type": "stream",
     "text": [
      "['Fred', 'Anne', 'Joe']\n"
     ]
    }
   ],
   "source": [
    "# Python 2 and 3:\n",
    "keylist = list(heights)\n",
    "print(keylist)\n",
    "assert isinstance(keylist, list)"
   ]
  },
  {
   "cell_type": "markdown",
   "metadata": {
    "slideshow": {
     "slide_type": "slide"
    }
   },
   "source": [
    "#### Iterar como lista sobre valores de un diccionarios"
   ]
  },
  {
   "cell_type": "code",
   "execution_count": null,
   "metadata": {
    "slideshow": {
     "slide_type": "fragment"
    }
   },
   "outputs": [],
   "source": [
    "# Python 2 only:\n",
    "heights = {'Fred': 175, 'Anne': 166, 'Joe': 192}\n",
    "valuelist = heights.values()\n",
    "assert isinstance(valuelist, list)"
   ]
  },
  {
   "cell_type": "code",
   "execution_count": 17,
   "metadata": {
    "slideshow": {
     "slide_type": "fragment"
    }
   },
   "outputs": [
    {
     "name": "stdout",
     "output_type": "stream",
     "text": [
      "[175, 166, 192]\n"
     ]
    }
   ],
   "source": [
    "heights = {'Fred': 175, 'Anne': 166, 'Joe': 192}\n",
    "\n",
    "# Python 2 and 3: option 1\n",
    "valuelist = list(heights.values())    # inefficient on Py2\n",
    "assert isinstance(valuelist, list)\n",
    "\n",
    "\n",
    "# Python 2 and 3: option 2\n",
    "from future.utils import listvalues\n",
    "\n",
    "valuelist = listvalues(heights)\n",
    "assert isinstance(valuelist, list)\n",
    "# Python 2 and 3: option 4\n",
    "from future.utils import itervalues\n",
    "# or\n",
    "from six import itervalues\n",
    "\n",
    "valuelist = list(itervalues(heights))\n",
    "print(valuelist)\n",
    "assert isinstance(valuelist, list)"
   ]
  },
  {
   "cell_type": "markdown",
   "metadata": {
    "slideshow": {
     "slide_type": "slide"
    }
   },
   "source": [
    "### Custom iterators"
   ]
  },
  {
   "cell_type": "code",
   "execution_count": null,
   "metadata": {
    "slideshow": {
     "slide_type": "fragment"
    }
   },
   "outputs": [],
   "source": [
    "# Python 2 only\n",
    "class Upper(object):\n",
    "    def __init__(self, iterable):\n",
    "        self._iter = iter(iterable)\n",
    "    def next(self):          # Py2-style\n",
    "        return self._iter.next().upper()\n",
    "    def __iter__(self):\n",
    "        return self\n",
    "\n",
    "itr = Upper('hello')\n",
    "assert itr.next() == 'H'     # Py2-style\n",
    "assert list(itr) == list('ELLO')"
   ]
  },
  {
   "cell_type": "code",
   "execution_count": 18,
   "metadata": {
    "slideshow": {
     "slide_type": "fragment"
    }
   },
   "outputs": [],
   "source": [
    "# Python 2 and 3: option 1\n",
    "from builtins import object\n",
    "\n",
    "class Upper(object):\n",
    "    def __init__(self, iterable):\n",
    "        self._iter = iter(iterable)\n",
    "    def __next__(self):      # Py3-style iterator interface\n",
    "        return next(self._iter).upper()  # builtin next() function calls\n",
    "    def __iter__(self):\n",
    "        return self\n",
    "\n",
    "itr = Upper('hello')\n",
    "assert next(itr) == 'H'      # compatible style\n",
    "assert list(itr) == list('ELLO')"
   ]
  },
  {
   "cell_type": "markdown",
   "metadata": {
    "slideshow": {
     "slide_type": "slide"
    }
   },
   "source": [
    "### Funciones que pasan de lista a iteradores"
   ]
  },
  {
   "cell_type": "code",
   "execution_count": null,
   "metadata": {
    "slideshow": {
     "slide_type": "fragment"
    }
   },
   "outputs": [],
   "source": [
    "# Python 2 range:\n",
    "type(range(5)) # -> <type 'list'>\n",
    "print(range(5)) # -> [0, 1, 2, 3, 4]\n",
    "# Python 3 range:\n",
    "type(range(5)) # -> <class 'range'>\n",
    "print(range(5)) # -> range(0, 5)"
   ]
  },
  {
   "cell_type": "code",
   "execution_count": null,
   "metadata": {
    "slideshow": {
     "slide_type": "fragment"
    }
   },
   "outputs": [],
   "source": [
    "f = lambda x: x*2\n",
    "lista = [1,2,3]\n",
    "\n",
    "# Python 2 range:\n",
    "type(map(f,lista)) # -> <type 'list'>\n",
    "print(map(f,lista)) # -> [2, 4, 6]\n",
    "# Python 3 range:\n",
    "type(map(f,lista)) # -> map\n",
    "print(map(f,lista)) # -> <map object at 0x7fe89a56d518>"
   ]
  },
  {
   "cell_type": "markdown",
   "metadata": {
    "slideshow": {
     "slide_type": "slide"
    }
   },
   "source": [
    "Lo mismo para zip, izip, filter, ifilter...."
   ]
  },
  {
   "cell_type": "markdown",
   "metadata": {
    "slideshow": {
     "slide_type": "slide"
    }
   },
   "source": [
    "### ADIOS reduce! :______("
   ]
  },
  {
   "cell_type": "code",
   "execution_count": 1,
   "metadata": {
    "slideshow": {
     "slide_type": "fragment"
    }
   },
   "outputs": [],
   "source": [
    "from past.builtins import reduce\n",
    "\n",
    "\n",
    "assert reduce(lambda x, y: x+y, [1, 2, 3, 4, 5]) == 1+2+3+4+5"
   ]
  },
  {
   "cell_type": "markdown",
   "metadata": {
    "slideshow": {
     "slide_type": "slide"
    }
   },
   "source": [
    "### Inputs"
   ]
  },
  {
   "cell_type": "code",
   "execution_count": null,
   "metadata": {
    "slideshow": {
     "slide_type": "fragment"
    }
   },
   "outputs": [],
   "source": [
    "# Python 2 only:\n",
    "name = raw_input('What is your name? ')\n",
    "assert isinstance(name, str)    # native str\n",
    "# Python 2 and 3:\n",
    "from builtins import input\n",
    "\n",
    "name = input('What is your name? ')\n",
    "assert isinstance(name, str)    # native str on Py2 and Py3\n",
    "\n",
    "# Python 2 only:\n",
    "input(\"Type something safe please: \")\n",
    "# Python 2 and 3\n",
    "from builtins import input\n",
    "eval(input(\"Type something safe please: \"))"
   ]
  },
  {
   "cell_type": "markdown",
   "metadata": {
    "slideshow": {
     "slide_type": "slide"
    }
   },
   "source": [
    "### Urllib2\n",
    "\n",
    "The urllib2 module has been split across several modules in Python 3 named urllib.request and urllib.error. The 2to3 tool will automatically adapt imports when converting your sources to Python 3."
   ]
  },
  {
   "cell_type": "code",
   "execution_count": null,
   "metadata": {
    "slideshow": {
     "slide_type": "fragment"
    }
   },
   "outputs": [],
   "source": [
    "# Python 2 only:\n",
    "import urllib2\n",
    "url = \"http://www.google.com\"\n",
    "html = urllib2.urlopen(url)"
   ]
  },
  {
   "cell_type": "code",
   "execution_count": null,
   "metadata": {
    "slideshow": {
     "slide_type": "fragment"
    }
   },
   "outputs": [],
   "source": [
    "# Python 3:\n",
    "from urllib.request import urlopen\n",
    "url = \"http://www.google.com\"\n",
    "html = urlopen(url)"
   ]
  },
  {
   "cell_type": "markdown",
   "metadata": {
    "slideshow": {
     "slide_type": "slide"
    }
   },
   "source": [
    "## I'm lazy, some program to do this migration, please? :)"
   ]
  },
  {
   "cell_type": "markdown",
   "metadata": {
    "slideshow": {
     "slide_type": "fragment"
    }
   },
   "source": [
    "### Futurize\n",
    "Show all files with python3 errors\n",
    "\n",
    "```\n",
    "apt-get install python3-future\n",
    "futurize --stage1 mypython2package/*.py\n",
    "futurize --stage2 mypython2package/*.py\n",
    "```"
   ]
  },
  {
   "cell_type": "markdown",
   "metadata": {
    "slideshow": {
     "slide_type": "subslide"
    }
   },
   "source": [
    "### Futurize\n",
    "Transform files with python3 errors\n",
    "\n",
    "```\n",
    "2to3 -w -f all  mypython2package/main.py\n",
    "```"
   ]
  },
  {
   "cell_type": "markdown",
   "metadata": {
    "slideshow": {
     "slide_type": "slide"
    }
   },
   "source": [
    "## Python 3.x News!"
   ]
  },
  {
   "cell_type": "markdown",
   "metadata": {
    "slideshow": {
     "slide_type": "slide"
    }
   },
   "source": [
    "### Yield from (Python 3.3+)\n",
    "\n",
    "PEP 380 adds the yield from expression, allowing a generator to delegate part of its operations to another generator. This allows a section of code containing yield to be factored out and placed in another generator. Additionally, the subgenerator is allowed to return with a value, and the value is made available to the delegating generator."
   ]
  },
  {
   "cell_type": "code",
   "execution_count": null,
   "metadata": {
    "slideshow": {
     "slide_type": "subslide"
    }
   },
   "outputs": [],
   "source": [
    "def g(x):\n",
    "    yield from range(x, 0, -1)\n",
    "    yield from range(x)\n",
    "\n",
    "list(g(5))"
   ]
  },
  {
   "cell_type": "markdown",
   "metadata": {
    "slideshow": {
     "slide_type": "slide"
    }
   },
   "source": [
    "### Function annotation syntax (Python 3.5+)\n",
    "\n",
    "More info in [python.org](https://www.python.org/dev/peps/pep-3107/)"
   ]
  },
  {
   "cell_type": "code",
   "execution_count": null,
   "metadata": {
    "slideshow": {
     "slide_type": "subslide"
    }
   },
   "outputs": [],
   "source": [
    "def say_hello(name: str) -> str:\n",
    "    return 'Hello ' + name\n",
    "\n",
    "say_hello(1)"
   ]
  },
  {
   "cell_type": "code",
   "execution_count": null,
   "metadata": {
    "slideshow": {
     "slide_type": "subslide"
    }
   },
   "outputs": [],
   "source": [
    "say_hello(\"Python 3\")"
   ]
  },
  {
   "cell_type": "markdown",
   "metadata": {
    "slideshow": {
     "slide_type": "slide"
    }
   },
   "source": [
    "### Coroutines: asyncio (Python 3.5+)\n",
    "\n",
    "Lets take a look at all the problems of threading and see if we have solved them.\n",
    "\n",
    "**CPU Context switching:** asyncio is asynchronous and uses an event loop; it allows you to have application controlled context switches while waiting for I/O. No CPU switching found here!\n",
    "\n",
    "**Race Conditions:** Because asyncio only runs a single coroutine at a time and switches only at points you define, your code is safe from race conditions.\n",
    "\n",
    "**Dead-Locks/Live-Locks:** Since you don’t have to worry about race conditions, you don’t have to use locks at all. This makes you pretty safe from dead-locks. You could still get into a dead-lock situation if you require two coroutines to wake each other, but that is so rare you would almost have to try to make it happen.\n",
    "\n",
    "**Resource Starvation:** Because coroutines are all run on a single thread, and dont require extra sockets or memory, it would be a lot harder to run out of resources. Asyncio however does have an “executor pool” which is essentially a thread pool. If you were to run too many things in an executor pool, you could still run out of resources. However, using too many executors is an anti-pattern, and not something you would probably do very often."
   ]
  },
  {
   "cell_type": "code",
   "execution_count": null,
   "metadata": {
    "slideshow": {
     "slide_type": "subslide"
    }
   },
   "outputs": [],
   "source": [
    "# Python 3.4 coroutine example\n",
    "import asyncio\n",
    " \n",
    "@asyncio.coroutine\n",
    "def my_coro():\n",
    "    yield from func()\n",
    "    \n",
    "import asyncio\n",
    " \n",
    "# Python 3.5 coroutine example\n",
    "async def my_coro():\n",
    "    await func()"
   ]
  },
  {
   "cell_type": "code",
   "execution_count": null,
   "metadata": {
    "slideshow": {
     "slide_type": "subslide"
    }
   },
   "outputs": [],
   "source": [
    "import asyncio\n",
    "import functools\n",
    " \n",
    " \n",
    "def event_handler(loop, stop=False):\n",
    "    print('Event handler called')\n",
    "    if stop:\n",
    "        print('stopping the loop')\n",
    "        loop.stop()\n",
    " \n",
    " \n",
    "if __name__ == '__main__':\n",
    "    loop = asyncio.get_event_loop()\n",
    "    try:\n",
    "        loop.call_soon(functools.partial(event_handler, loop))\n",
    "        print('starting event loop')\n",
    "        loop.call_soon(functools.partial(event_handler, loop, stop=True))\n",
    " \n",
    "        loop.run_forever()\n",
    "    finally:\n",
    "        print('closing event loop')\n",
    "        loop.close()"
   ]
  },
  {
   "cell_type": "code",
   "execution_count": null,
   "metadata": {
    "slideshow": {
     "slide_type": "subslide"
    }
   },
   "outputs": [],
   "source": [
    "import asyncio\n",
    " \n",
    " \n",
    "async def my_task(seconds):\n",
    "    \"\"\"\n",
    "    A task to do for a number of seconds\n",
    "    \"\"\"\n",
    "    print('This task is taking {} seconds to complete'.format(\n",
    "        seconds))\n",
    "    await asyncio.sleep(seconds)\n",
    "    return 'task finished'\n",
    " \n",
    " \n",
    "if __name__ == '__main__':\n",
    "    my_event_loop = asyncio.get_event_loop()\n",
    "    try:\n",
    "        print('task creation started')\n",
    "        task_obj = my_event_loop.create_task(my_task(seconds=2))\n",
    "        my_event_loop.run_until_complete(task_obj)\n",
    "    finally:\n",
    "        my_event_loop.close()\n",
    " \n",
    "    print(\"The task's result was: {}\".format(task_obj.result()))"
   ]
  },
  {
   "cell_type": "markdown",
   "metadata": {
    "slideshow": {
     "slide_type": "slide"
    }
   },
   "source": [
    "## LINKS"
   ]
  },
  {
   "cell_type": "markdown",
   "metadata": {
    "slideshow": {
     "slide_type": "fragment"
    }
   },
   "source": [
    "[Python Whats new](https://docs.python.org/3/whatsnew/3.5.html)\n",
    "\n",
    "[Writing Python 2-3 compatible code Cheat Sheet](http://python-future.org/compatible_idioms.html)"
   ]
  }
 ],
 "metadata": {
  "celltoolbar": "Slideshow",
  "kernelspec": {
   "display_name": "Python 3",
   "language": "python",
   "name": "python3"
  },
  "language_info": {
   "codemirror_mode": {
    "name": "ipython",
    "version": 3
   },
   "file_extension": ".py",
   "mimetype": "text/x-python",
   "name": "python",
   "nbconvert_exporter": "python",
   "pygments_lexer": "ipython3",
   "version": "3.6.3"
  }
 },
 "nbformat": 4,
 "nbformat_minor": 2
}
